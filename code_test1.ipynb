{
 "cells": [
  {
   "cell_type": "markdown",
   "metadata": {},
   "source": [
    "# Employee Attrition Analysis"
   ]
  },
  {
   "cell_type": "markdown",
   "metadata": {},
   "source": [
    "Some PEP 8 good coding practice in python\n",
    "\n",
    "https://www.python.org/dev/peps/pep-0008/\n"
   ]
  },
  {
   "cell_type": "code",
   "execution_count": null,
   "metadata": {},
   "outputs": [],
   "source": [
    "Identation\n",
    "\n",
    "    Use a 4-spaces indentation, and either tab xor space, don't mix'em.\n",
    "    Use Hanging indentation for parenthesized code (but not for IF-statement conditional part)\n",
    "    The last brace/bracket/parenthesis on multiple line construct may either: line up under the first non-whitespace character of the last line of, or: be lined up under the first character of the line that starts the multiline construct.\n",
    "\n",
    "Code wrapping\n",
    "\n",
    "    Limit all line to 79 characters max (72 for docstrings and comments)\n",
    "    For breaking into multiple lines, Use Parenthesized code instead of backslashes (but in the case of with-statements and assert-statements).\n",
    "    Break lines before binary operators\n",
    "\n",
    "Blank lines\n",
    "\n",
    "    2 blank lines for top-level function and class definitions\n",
    "    1 blank line for methods definitions inside a class\n",
    "    Extra blank lines to separate groups of related functions\n",
    "    Use a blank line to indicate a logical section\n",
    "\n",
    "Imports\n",
    "\n",
    "    1/line, but when starting with a 'from'.\n",
    "    allways at the top of the file, after module comments and docstrings, before\n",
    "    Groups of imports are Standard library, related 3rd party, local app/library specific with blank separation\n",
    "    Use explicit absolute import, and avoid wildcard import (from <module import *)\n",
    "\n",
    "White spaces\n",
    "\n",
    "    °spam( ham[ 1 ], -> spam(ham[1], °foo = (0, ) -> foo = (0,) °x , y -> x, y\n",
    "    ham[:9:3] (when whatever arg is omitted), but ham[lower + offset : upper + offset] when all args appear.\n",
    "    Surround the binary operators with a single space on either side: x = 1; restricted to lowest priority ones in a multi-operator expression: c = (a+b) * (a-b)\n",
    "\n",
    "Function annotations\n",
    "\n",
    "    Rules on colons & arrow: def munge(input: AnyStr): ... | def munge() -> PosInt: ...\n",
    "    Rules on spaces: def complex(real, imag=0.0): | return magic(r=real, i=imag)\n",
    "\n",
    "Comments\n",
    "\n",
    "    Comments are not to contradict the code: update comments !\n",
    "    Inline comments shouldn't state the obvious\n",
    "    Block comments are indented the the same level as the code.\n",
    "    \"\"\"Docstrings are intended for public modules, classes, functions, methods\n",
    "\n",
    "Naming conventions\n",
    "\n",
    "    CapWords or mixedCaps are conventions\n",
    "    If conflict in lowercase names, rather append a trailing underscore: class_\n",
    "    One leading underscore for non-public methods and instance variables: _myprivatefunc\n",
    "    Double leading underscore to avoid name conflicts with attributes in classes\n",
    "\n",
    "Programming recommendations\n",
    "\n",
    "    Use def f(x): return 2x instead of f = lambda x: 2x\n",
    "    If any return statement returns an expression, any return statements where no value is returned should explicitly state this as return None, and an explicit return statement should be present at the end of the function (if reachable).\n",
    "    Use ''.starts(/ends)with, instead of slices comparisons\n",
    "    Use if isinstance(obj, anObjectType): instead of direct type comparison\n",
    "    For sequences (strings, lists, tuples) use the fact that empty ones are FALSE: if seq: | if not seq:\n",
    "\n"
   ]
  }
 ],
 "metadata": {
  "kernelspec": {
   "display_name": "Python 3",
   "language": "python",
   "name": "python3"
  },
  "language_info": {
   "codemirror_mode": {
    "name": "ipython",
    "version": 3
   },
   "file_extension": ".py",
   "mimetype": "text/x-python",
   "name": "python",
   "nbconvert_exporter": "python",
   "pygments_lexer": "ipython3",
   "version": "3.7.6"
  }
 },
 "nbformat": 4,
 "nbformat_minor": 4
}
